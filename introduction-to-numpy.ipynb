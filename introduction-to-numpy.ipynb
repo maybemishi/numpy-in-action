{
 "cells": [
  {
   "cell_type": "code",
   "execution_count": 2,
   "id": "6497ad46-7835-4342-8848-a7cf9ce079c2",
   "metadata": {},
   "outputs": [],
   "source": [
    "import numpy as np"
   ]
  },
  {
   "cell_type": "markdown",
   "id": "80c0f0c9-c8a4-4200-a97b-96b35f0ca8c9",
   "metadata": {},
   "source": [
    "##datatypes and attributes"
   ]
  },
  {
   "cell_type": "markdown",
   "id": "b1b4ee14-d99a-4bfb-af41-7fecc1b55874",
   "metadata": {},
   "source": [
    "# numpy's main data type is nd array (n-dimensional array)"
   ]
  },
  {
   "cell_type": "code",
   "execution_count": 3,
   "id": "dc53caed-1898-4721-b22f-cdcad7ed2f32",
   "metadata": {},
   "outputs": [],
   "source": [
    "a1 = np.array([1,2,3])"
   ]
  },
  {
   "cell_type": "code",
   "execution_count": 4,
   "id": "95654707-2002-4a80-a82a-9186e75bce6c",
   "metadata": {},
   "outputs": [
    {
     "data": {
      "text/plain": [
       "array([1, 2, 3])"
      ]
     },
     "execution_count": 4,
     "metadata": {},
     "output_type": "execute_result"
    }
   ],
   "source": [
    "a1"
   ]
  },
  {
   "cell_type": "code",
   "execution_count": 5,
   "id": "9684b44c-b745-4aaf-a9a5-9d345922994e",
   "metadata": {},
   "outputs": [
    {
     "data": {
      "text/plain": [
       "numpy.ndarray"
      ]
     },
     "execution_count": 5,
     "metadata": {},
     "output_type": "execute_result"
    }
   ],
   "source": [
    "type(a1)"
   ]
  },
  {
   "cell_type": "code",
   "execution_count": 6,
   "id": "479b7e9b-6e1b-4303-b433-f24d8de9fb03",
   "metadata": {},
   "outputs": [],
   "source": [
    "a2= np.array([[1,2,3],\n",
    "              [4,5,6]])"
   ]
  },
  {
   "cell_type": "code",
   "execution_count": 7,
   "id": "c8edb604-4b67-423b-82d1-a20b41584eb0",
   "metadata": {},
   "outputs": [
    {
     "data": {
      "text/plain": [
       "array([[1, 2, 3],\n",
       "       [4, 5, 6]])"
      ]
     },
     "execution_count": 7,
     "metadata": {},
     "output_type": "execute_result"
    }
   ],
   "source": [
    "a2"
   ]
  },
  {
   "cell_type": "code",
   "execution_count": 8,
   "id": "64aa3d9a-1290-47d4-bfd6-f67a859f7b74",
   "metadata": {},
   "outputs": [],
   "source": [
    "a3= np.array([[[1,2,3],\n",
    "              [4,5,6],\n",
    "              [7,8,9]],\n",
    "             [[10,11,12],\n",
    "              [13,14,15],\n",
    "              [16,17,18]]])"
   ]
  },
  {
   "cell_type": "code",
   "execution_count": 9,
   "id": "04648800-7144-40b1-bea5-5bf6b8be757a",
   "metadata": {},
   "outputs": [
    {
     "data": {
      "text/plain": [
       "array([[[ 1,  2,  3],\n",
       "        [ 4,  5,  6],\n",
       "        [ 7,  8,  9]],\n",
       "\n",
       "       [[10, 11, 12],\n",
       "        [13, 14, 15],\n",
       "        [16, 17, 18]]])"
      ]
     },
     "execution_count": 9,
     "metadata": {},
     "output_type": "execute_result"
    }
   ],
   "source": [
    "a3"
   ]
  },
  {
   "cell_type": "code",
   "execution_count": 10,
   "id": "885bde8e-8cfe-4284-9322-2bd67aa5a3c2",
   "metadata": {},
   "outputs": [
    {
     "data": {
      "text/plain": [
       "numpy.ndarray"
      ]
     },
     "execution_count": 10,
     "metadata": {},
     "output_type": "execute_result"
    }
   ],
   "source": [
    "type(a3)"
   ]
  },
  {
   "cell_type": "markdown",
   "id": "8d8698ad-74a2-4efb-94d9-ab7eeaf8533e",
   "metadata": {},
   "source": [
    "shape of array a3= (2,3,3)"
   ]
  },
  {
   "cell_type": "code",
   "execution_count": 11,
   "id": "0be0d389-b946-41e5-96bb-ac1915cec4c3",
   "metadata": {},
   "outputs": [
    {
     "data": {
      "text/plain": [
       "(2, 3, 3)"
      ]
     },
     "execution_count": 11,
     "metadata": {},
     "output_type": "execute_result"
    }
   ],
   "source": [
    "a3.shape"
   ]
  },
  {
   "cell_type": "code",
   "execution_count": 12,
   "id": "a5227bd0-5ee3-4682-ad1d-872666ea7039",
   "metadata": {},
   "outputs": [
    {
     "data": {
      "text/plain": [
       "(2, 3)"
      ]
     },
     "execution_count": 12,
     "metadata": {},
     "output_type": "execute_result"
    }
   ],
   "source": [
    "a2.shape"
   ]
  },
  {
   "cell_type": "code",
   "execution_count": 13,
   "id": "7d7f3658-30a6-4dc8-96bf-d6c88d634d1b",
   "metadata": {},
   "outputs": [
    {
     "data": {
      "text/plain": [
       "(3,)"
      ]
     },
     "execution_count": 13,
     "metadata": {},
     "output_type": "execute_result"
    }
   ],
   "source": [
    "a1.shape"
   ]
  },
  {
   "cell_type": "code",
   "execution_count": 14,
   "id": "210d98be-2365-415f-967c-b432758bb857",
   "metadata": {},
   "outputs": [
    {
     "data": {
      "text/plain": [
       "(1, 2, 3)"
      ]
     },
     "execution_count": 14,
     "metadata": {},
     "output_type": "execute_result"
    }
   ],
   "source": [
    "a1.ndim,a2.ndim,a3.ndim"
   ]
  },
  {
   "cell_type": "markdown",
   "id": "3d36f729-0988-4dd3-9ec9-a0fa24f53769",
   "metadata": {},
   "source": [
    "no. of dimensions"
   ]
  },
  {
   "cell_type": "code",
   "execution_count": 15,
   "id": "85a3e86a-245c-43c8-b2c4-7fded5f2d169",
   "metadata": {},
   "outputs": [
    {
     "data": {
      "text/plain": [
       "(3, 6, 18)"
      ]
     },
     "execution_count": 15,
     "metadata": {},
     "output_type": "execute_result"
    }
   ],
   "source": [
    "a1.size, a2.size, a3.size"
   ]
  },
  {
   "cell_type": "code",
   "execution_count": 16,
   "id": "508f35ca-31f2-4767-85a5-b31d1d91f2cb",
   "metadata": {},
   "outputs": [],
   "source": [
    "# create a data frame from a numpy array\n",
    "import pandas as pd\n",
    "\n",
    "df = pd.DataFrame(a2)"
   ]
  },
  {
   "cell_type": "code",
   "execution_count": 17,
   "id": "66160219-9c09-4877-abfd-d82106e46cdc",
   "metadata": {},
   "outputs": [
    {
     "data": {
      "text/html": [
       "<div>\n",
       "<style scoped>\n",
       "    .dataframe tbody tr th:only-of-type {\n",
       "        vertical-align: middle;\n",
       "    }\n",
       "\n",
       "    .dataframe tbody tr th {\n",
       "        vertical-align: top;\n",
       "    }\n",
       "\n",
       "    .dataframe thead th {\n",
       "        text-align: right;\n",
       "    }\n",
       "</style>\n",
       "<table border=\"1\" class=\"dataframe\">\n",
       "  <thead>\n",
       "    <tr style=\"text-align: right;\">\n",
       "      <th></th>\n",
       "      <th>0</th>\n",
       "      <th>1</th>\n",
       "      <th>2</th>\n",
       "    </tr>\n",
       "  </thead>\n",
       "  <tbody>\n",
       "    <tr>\n",
       "      <th>0</th>\n",
       "      <td>1</td>\n",
       "      <td>2</td>\n",
       "      <td>3</td>\n",
       "    </tr>\n",
       "    <tr>\n",
       "      <th>1</th>\n",
       "      <td>4</td>\n",
       "      <td>5</td>\n",
       "      <td>6</td>\n",
       "    </tr>\n",
       "  </tbody>\n",
       "</table>\n",
       "</div>"
      ],
      "text/plain": [
       "   0  1  2\n",
       "0  1  2  3\n",
       "1  4  5  6"
      ]
     },
     "execution_count": 17,
     "metadata": {},
     "output_type": "execute_result"
    }
   ],
   "source": [
    "df"
   ]
  },
  {
   "cell_type": "code",
   "execution_count": 18,
   "id": "33ac4ea5-c09e-4e61-a6d3-9d3aeaf6e70c",
   "metadata": {},
   "outputs": [
    {
     "data": {
      "text/html": [
       "<div>\n",
       "<style scoped>\n",
       "    .dataframe tbody tr th:only-of-type {\n",
       "        vertical-align: middle;\n",
       "    }\n",
       "\n",
       "    .dataframe tbody tr th {\n",
       "        vertical-align: top;\n",
       "    }\n",
       "\n",
       "    .dataframe thead th {\n",
       "        text-align: right;\n",
       "    }\n",
       "</style>\n",
       "<table border=\"1\" class=\"dataframe\">\n",
       "  <thead>\n",
       "    <tr style=\"text-align: right;\">\n",
       "      <th></th>\n",
       "      <th>0</th>\n",
       "      <th>1</th>\n",
       "      <th>2</th>\n",
       "    </tr>\n",
       "  </thead>\n",
       "  <tbody>\n",
       "    <tr>\n",
       "      <th>0</th>\n",
       "      <td>1</td>\n",
       "      <td>2</td>\n",
       "      <td>3</td>\n",
       "    </tr>\n",
       "    <tr>\n",
       "      <th>1</th>\n",
       "      <td>4</td>\n",
       "      <td>5</td>\n",
       "      <td>6</td>\n",
       "    </tr>\n",
       "  </tbody>\n",
       "</table>\n",
       "</div>"
      ],
      "text/plain": [
       "   0  1  2\n",
       "0  1  2  3\n",
       "1  4  5  6"
      ]
     },
     "execution_count": 18,
     "metadata": {},
     "output_type": "execute_result"
    }
   ],
   "source": [
    "df"
   ]
  },
  {
   "cell_type": "markdown",
   "id": "0dfc9938-fe33-40a9-9519-1da47ecb2fa6",
   "metadata": {
    "jp-MarkdownHeadingCollapsed": true
   },
   "source": [
    "##creating arrays"
   ]
  },
  {
   "cell_type": "code",
   "execution_count": 19,
   "id": "f5e20765-dbe5-49c7-976d-4a7a36a7d742",
   "metadata": {},
   "outputs": [],
   "source": [
    "ones = np.ones((2,2),)"
   ]
  },
  {
   "cell_type": "code",
   "execution_count": 20,
   "id": "f7faa319-d218-4184-91fd-2dd6a762eafe",
   "metadata": {},
   "outputs": [
    {
     "data": {
      "text/plain": [
       "array([[1., 1.],\n",
       "       [1., 1.]])"
      ]
     },
     "execution_count": 20,
     "metadata": {},
     "output_type": "execute_result"
    }
   ],
   "source": [
    "ones\n"
   ]
  },
  {
   "cell_type": "code",
   "execution_count": 21,
   "id": "7ce535a0-341b-40de-95f8-c73e831b8d43",
   "metadata": {},
   "outputs": [],
   "source": [
    "ranged_array= np.arange(1,10,2)"
   ]
  },
  {
   "cell_type": "code",
   "execution_count": 22,
   "id": "9428c242-2d70-4f8f-a941-9d8e90f04abc",
   "metadata": {},
   "outputs": [
    {
     "data": {
      "text/plain": [
       "array([1, 3, 5, 7, 9])"
      ]
     },
     "execution_count": 22,
     "metadata": {},
     "output_type": "execute_result"
    }
   ],
   "source": [
    "ranged_array"
   ]
  },
  {
   "cell_type": "code",
   "execution_count": 23,
   "id": "0f2c26cf-4938-4c6b-8fd4-9c9bd5e181fe",
   "metadata": {},
   "outputs": [
    {
     "data": {
      "text/plain": [
       "array([0, 2, 4, 6, 8])"
      ]
     },
     "execution_count": 23,
     "metadata": {},
     "output_type": "execute_result"
    }
   ],
   "source": [
    "ranged_array= np.arange(0,10,2)\n",
    "ranged_array"
   ]
  },
  {
   "cell_type": "code",
   "execution_count": 24,
   "id": "748a0d74-cfed-4078-a80f-95bce91a745b",
   "metadata": {},
   "outputs": [
    {
     "data": {
      "text/plain": [
       "array([[9, 8, 1, 8, 6],\n",
       "       [2, 3, 4, 6, 3],\n",
       "       [7, 3, 4, 8, 7],\n",
       "       [5, 1, 6, 5, 2],\n",
       "       [7, 5, 7, 6, 4]])"
      ]
     },
     "execution_count": 24,
     "metadata": {},
     "output_type": "execute_result"
    }
   ],
   "source": [
    "random_arr= np.random.randint(1,10,size=(5,5))\n",
    "random_arr"
   ]
  },
  {
   "cell_type": "code",
   "execution_count": 25,
   "id": "25b0f58d-502a-4dad-bb76-e3d12ad58284",
   "metadata": {},
   "outputs": [
    {
     "data": {
      "text/plain": [
       "(5, 5)"
      ]
     },
     "execution_count": 25,
     "metadata": {},
     "output_type": "execute_result"
    }
   ],
   "source": [
    "random_arr.shape"
   ]
  },
  {
   "cell_type": "code",
   "execution_count": 26,
   "id": "28471ee7-52a4-4344-bed2-a20f6138f88c",
   "metadata": {},
   "outputs": [
    {
     "data": {
      "text/plain": [
       "array([[[5, 8, 5, 6, 4],\n",
       "        [1, 1, 5, 5, 6],\n",
       "        [4, 8, 9, 6, 9],\n",
       "        [6, 1, 4, 4, 8],\n",
       "        [9, 9, 4, 1, 5]],\n",
       "\n",
       "       [[5, 5, 4, 2, 8],\n",
       "        [9, 7, 3, 2, 3],\n",
       "        [2, 7, 4, 8, 2],\n",
       "        [4, 2, 7, 8, 2],\n",
       "        [9, 3, 6, 1, 1]]])"
      ]
     },
     "execution_count": 26,
     "metadata": {},
     "output_type": "execute_result"
    }
   ],
   "source": [
    "random_arr= np.random.randint(1,10,size=(2,5,5))\n",
    "random_arr"
   ]
  },
  {
   "cell_type": "code",
   "execution_count": 27,
   "id": "c8a4bb6a-15da-4c3a-b743-ec4722ac128c",
   "metadata": {},
   "outputs": [
    {
     "data": {
      "text/plain": [
       "(2, 5, 5)"
      ]
     },
     "execution_count": 27,
     "metadata": {},
     "output_type": "execute_result"
    }
   ],
   "source": [
    "random_arr.shape"
   ]
  },
  {
   "cell_type": "markdown",
   "id": "cf8ce498-04d0-4818-ae0a-ae29a42e3442",
   "metadata": {},
   "source": [
    "#random seed- non random random numbers"
   ]
  },
  {
   "cell_type": "code",
   "execution_count": 28,
   "id": "fce97a2f-b664-4c03-b126-2e0fec76fedb",
   "metadata": {},
   "outputs": [
    {
     "data": {
      "text/plain": [
       "array([[5, 0, 3],\n",
       "       [3, 7, 9],\n",
       "       [3, 5, 2],\n",
       "       [4, 7, 6],\n",
       "       [8, 8, 1]])"
      ]
     },
     "execution_count": 28,
     "metadata": {},
     "output_type": "execute_result"
    }
   ],
   "source": [
    "np.random.seed(seed=0)\n",
    "random_array_4= np.random.randint(10,size=(5,3))\n",
    "random_array_4\n",
    "#prevents number from changing/ reproducable random numbers (works no matter what your seed is)"
   ]
  },
  {
   "cell_type": "code",
   "execution_count": 29,
   "id": "a6a7d7f7-d9c7-434f-b2df-00e8795ce367",
   "metadata": {},
   "outputs": [
    {
     "data": {
      "text/plain": [
       "array([[0.80342804, 0.5275223 , 0.11911147, 0.63968144],\n",
       "       [0.09092526, 0.33222568, 0.42738095, 0.55438581],\n",
       "       [0.62812652, 0.69739294, 0.78994969, 0.13189035],\n",
       "       [0.34277045, 0.20155961, 0.70732423, 0.03339926],\n",
       "       [0.90925004, 0.40516066, 0.76043547, 0.47375838]])"
      ]
     },
     "execution_count": 29,
     "metadata": {},
     "output_type": "execute_result"
    }
   ],
   "source": [
    "np.random.seed(seed=999)\n",
    "random_array_5= np.random.random((5,4))\n",
    "random_array_5"
   ]
  },
  {
   "cell_type": "code",
   "execution_count": 30,
   "id": "056da9d4-cf2d-4910-bd22-040d1928e2f3",
   "metadata": {},
   "outputs": [
    {
     "data": {
      "text/plain": [
       "array([[0.67227856, 0.4880784 , 0.82549517, 0.03144639],\n",
       "       [0.80804996, 0.56561742, 0.2976225 , 0.04669572],\n",
       "       [0.9906274 , 0.00682573, 0.76979303, 0.7467671 ],\n",
       "       [0.37743894, 0.49414745, 0.92894839, 0.39545404],\n",
       "       [0.9739563 , 0.52441472, 0.09361309, 0.81330841]])"
      ]
     },
     "execution_count": 30,
     "metadata": {},
     "output_type": "execute_result"
    }
   ],
   "source": [
    "np.random.seed(seed=99)\n",
    "random_array_5= np.random.random((5,4))\n",
    "random_array_5"
   ]
  },
  {
   "cell_type": "markdown",
   "id": "13d3c023-5e65-4d33-8cc4-93578beef627",
   "metadata": {},
   "source": [
    "## viewing arrays and matrices"
   ]
  },
  {
   "cell_type": "code",
   "execution_count": 31,
   "id": "253295ec-ac67-4e5a-ad33-e33a340b78b6",
   "metadata": {},
   "outputs": [
    {
     "data": {
      "text/plain": [
       "array([0, 1, 2, 3, 4, 5, 6, 7, 8, 9])"
      ]
     },
     "execution_count": 31,
     "metadata": {},
     "output_type": "execute_result"
    }
   ],
   "source": [
    "np.unique(random_array_4)\n",
    "#np.unique(random_array_5)"
   ]
  },
  {
   "cell_type": "markdown",
   "id": "830993b1-3b19-4e61-86ad-4b18eb67d6db",
   "metadata": {},
   "source": [
    "##viewing arrays and matrices"
   ]
  },
  {
   "cell_type": "code",
   "execution_count": 32,
   "id": "7c280fd0-5892-4a54-b7fc-feb2ba936347",
   "metadata": {},
   "outputs": [
    {
     "data": {
      "text/plain": [
       "1"
      ]
     },
     "execution_count": 32,
     "metadata": {},
     "output_type": "execute_result"
    }
   ],
   "source": [
    "a1[0]"
   ]
  },
  {
   "cell_type": "code",
   "execution_count": 33,
   "id": "dc3a38bc-0a75-4f65-8538-43220c2af214",
   "metadata": {},
   "outputs": [
    {
     "data": {
      "text/plain": [
       "array([[1, 2, 3],\n",
       "       [4, 5, 6],\n",
       "       [7, 8, 9]])"
      ]
     },
     "execution_count": 33,
     "metadata": {},
     "output_type": "execute_result"
    }
   ],
   "source": [
    "a3[0]"
   ]
  },
  {
   "cell_type": "code",
   "execution_count": 34,
   "id": "9ae5ccb2-2984-4137-bd6a-b46247a18581",
   "metadata": {},
   "outputs": [],
   "source": [
    "a4 = np.random.randint(10,size=(2,3,4,5))"
   ]
  },
  {
   "cell_type": "code",
   "execution_count": 35,
   "id": "1c6cbf9b-d93a-4434-8f51-ac0f2ddd2f47",
   "metadata": {},
   "outputs": [
    {
     "data": {
      "text/plain": [
       "array([[[[4, 9, 1, 9, 0],\n",
       "         [5, 9, 3, 3, 6],\n",
       "         [2, 5, 0, 5, 1],\n",
       "         [2, 1, 9, 1, 3]],\n",
       "\n",
       "        [[8, 8, 9, 2, 9],\n",
       "         [8, 0, 7, 3, 2],\n",
       "         [0, 6, 0, 2, 3],\n",
       "         [2, 8, 3, 5, 5]],\n",
       "\n",
       "        [[9, 4, 1, 4, 9],\n",
       "         [7, 6, 5, 7, 5],\n",
       "         [0, 3, 7, 9, 5],\n",
       "         [7, 7, 8, 8, 0]]],\n",
       "\n",
       "\n",
       "       [[[2, 3, 4, 0, 8],\n",
       "         [0, 9, 0, 8, 4],\n",
       "         [1, 0, 7, 9, 2],\n",
       "         [7, 6, 1, 4, 2]],\n",
       "\n",
       "        [[6, 8, 2, 2, 7],\n",
       "         [2, 3, 2, 6, 1],\n",
       "         [6, 3, 6, 7, 4],\n",
       "         [4, 9, 9, 2, 7]],\n",
       "\n",
       "        [[9, 5, 5, 1, 5],\n",
       "         [0, 2, 7, 0, 6],\n",
       "         [7, 2, 8, 6, 4],\n",
       "         [2, 5, 0, 1, 7]]]])"
      ]
     },
     "execution_count": 35,
     "metadata": {},
     "output_type": "execute_result"
    }
   ],
   "source": [
    "a4"
   ]
  },
  {
   "cell_type": "code",
   "execution_count": 36,
   "id": "305d4a14-047e-4641-8f6a-82b985a63e4a",
   "metadata": {},
   "outputs": [
    {
     "data": {
      "text/plain": [
       "array([[[[4],\n",
       "         [5],\n",
       "         [2],\n",
       "         [2]],\n",
       "\n",
       "        [[8],\n",
       "         [8],\n",
       "         [0],\n",
       "         [2]],\n",
       "\n",
       "        [[9],\n",
       "         [7],\n",
       "         [0],\n",
       "         [7]]],\n",
       "\n",
       "\n",
       "       [[[2],\n",
       "         [0],\n",
       "         [1],\n",
       "         [7]],\n",
       "\n",
       "        [[6],\n",
       "         [2],\n",
       "         [6],\n",
       "         [4]],\n",
       "\n",
       "        [[9],\n",
       "         [0],\n",
       "         [7],\n",
       "         [2]]]])"
      ]
     },
     "execution_count": 36,
     "metadata": {},
     "output_type": "execute_result"
    }
   ],
   "source": [
    "a4[:,:,:,:1]"
   ]
  },
  {
   "cell_type": "code",
   "execution_count": 37,
   "id": "746f1d90-2863-46db-80eb-785dd7478cc6",
   "metadata": {},
   "outputs": [
    {
     "data": {
      "text/plain": [
       "array([[[[4, 9],\n",
       "         [5, 9],\n",
       "         [2, 5],\n",
       "         [2, 1]],\n",
       "\n",
       "        [[8, 8],\n",
       "         [8, 0],\n",
       "         [0, 6],\n",
       "         [2, 8]],\n",
       "\n",
       "        [[9, 4],\n",
       "         [7, 6],\n",
       "         [0, 3],\n",
       "         [7, 7]]],\n",
       "\n",
       "\n",
       "       [[[2, 3],\n",
       "         [0, 9],\n",
       "         [1, 0],\n",
       "         [7, 6]],\n",
       "\n",
       "        [[6, 8],\n",
       "         [2, 3],\n",
       "         [6, 3],\n",
       "         [4, 9]],\n",
       "\n",
       "        [[9, 5],\n",
       "         [0, 2],\n",
       "         [7, 2],\n",
       "         [2, 5]]]])"
      ]
     },
     "execution_count": 37,
     "metadata": {},
     "output_type": "execute_result"
    }
   ],
   "source": [
    "a4[:,:,:,:2]"
   ]
  },
  {
   "cell_type": "markdown",
   "id": "1ed7f5cd-e8de-4831-b8bc-cf27a57a59ee",
   "metadata": {},
   "source": [
    "## manipulating arrays & comparing arrays"
   ]
  },
  {
   "cell_type": "markdown",
   "id": "29a600e5-3e69-4d2c-84e9-d51dd1f72923",
   "metadata": {},
   "source": [
    "#Arithmetic"
   ]
  },
  {
   "cell_type": "code",
   "execution_count": 38,
   "id": "a1ff7d29-8634-4a1d-bcfb-6aea9bda084d",
   "metadata": {},
   "outputs": [
    {
     "data": {
      "text/plain": [
       "array([1, 2, 3])"
      ]
     },
     "execution_count": 38,
     "metadata": {},
     "output_type": "execute_result"
    }
   ],
   "source": [
    "a1"
   ]
  },
  {
   "cell_type": "code",
   "execution_count": 39,
   "id": "88bbbf99-ca64-4d5a-b600-ffd87787303c",
   "metadata": {},
   "outputs": [
    {
     "data": {
      "text/plain": [
       "array([1., 1., 1.])"
      ]
     },
     "execution_count": 39,
     "metadata": {},
     "output_type": "execute_result"
    }
   ],
   "source": [
    "ones= np.ones(3)\n",
    "ones"
   ]
  },
  {
   "cell_type": "code",
   "execution_count": 40,
   "id": "1fb2de7a-d58a-496a-8b47-0976fb62bfcb",
   "metadata": {},
   "outputs": [
    {
     "data": {
      "text/plain": [
       "array([2., 3., 4.])"
      ]
     },
     "execution_count": 40,
     "metadata": {},
     "output_type": "execute_result"
    }
   ],
   "source": [
    "a1+ones"
   ]
  },
  {
   "cell_type": "code",
   "execution_count": 41,
   "id": "0496b211-0955-40c0-88a9-5d2298d201f4",
   "metadata": {},
   "outputs": [
    {
     "data": {
      "text/plain": [
       "array([0., 1., 2.])"
      ]
     },
     "execution_count": 41,
     "metadata": {},
     "output_type": "execute_result"
    }
   ],
   "source": [
    "a1-ones"
   ]
  },
  {
   "cell_type": "code",
   "execution_count": 42,
   "id": "bfa1ed21-7e80-491c-b0c6-db9c429b467d",
   "metadata": {},
   "outputs": [
    {
     "data": {
      "text/plain": [
       "array([1., 2., 3.])"
      ]
     },
     "execution_count": 42,
     "metadata": {},
     "output_type": "execute_result"
    }
   ],
   "source": [
    "a1 * ones"
   ]
  },
  {
   "cell_type": "code",
   "execution_count": 43,
   "id": "e560f035-8afd-4574-967a-5f6f9c723252",
   "metadata": {},
   "outputs": [
    {
     "data": {
      "text/plain": [
       "array([1., 2., 3.])"
      ]
     },
     "execution_count": 43,
     "metadata": {},
     "output_type": "execute_result"
    }
   ],
   "source": [
    "a1/ones"
   ]
  },
  {
   "cell_type": "code",
   "execution_count": 44,
   "id": "2fbac6b1-a38b-4249-8dd9-610fd3f6aa98",
   "metadata": {},
   "outputs": [
    {
     "data": {
      "text/plain": [
       "array([[1, 2, 3],\n",
       "       [4, 5, 6]])"
      ]
     },
     "execution_count": 44,
     "metadata": {},
     "output_type": "execute_result"
    }
   ],
   "source": [
    "a2"
   ]
  },
  {
   "cell_type": "code",
   "execution_count": 45,
   "id": "d0cf8747-21b1-4520-b12f-2ab1f2ed4717",
   "metadata": {},
   "outputs": [
    {
     "data": {
      "text/plain": [
       "array([[ 1,  4,  9],\n",
       "       [ 4, 10, 18]])"
      ]
     },
     "execution_count": 45,
     "metadata": {},
     "output_type": "execute_result"
    }
   ],
   "source": [
    "a1 * a2 "
   ]
  },
  {
   "cell_type": "code",
   "execution_count": 46,
   "id": "54fd661a-7919-4083-b148-1dd4bda95d2d",
   "metadata": {},
   "outputs": [],
   "source": [
    "#coding is fun"
   ]
  },
  {
   "cell_type": "code",
   "execution_count": 47,
   "id": "9f300cd3-a8d6-4d16-be3d-0bca0bd63b6c",
   "metadata": {},
   "outputs": [
    {
     "data": {
      "text/plain": [
       "array([[ 9, 18, 27],\n",
       "       [36, 45, 54]])"
      ]
     },
     "execution_count": 47,
     "metadata": {},
     "output_type": "execute_result"
    }
   ],
   "source": [
    "a2 * a3 [0,2,2]"
   ]
  },
  {
   "cell_type": "code",
   "execution_count": 48,
   "id": "12c42ad4-8766-4d6b-beef-9d80ebe5ba75",
   "metadata": {},
   "outputs": [
    {
     "data": {
      "text/plain": [
       "array([[1, 1, 1],\n",
       "       [4, 2, 2]])"
      ]
     },
     "execution_count": 48,
     "metadata": {},
     "output_type": "execute_result"
    }
   ],
   "source": [
    "a2//a1 #floor division removes decimals"
   ]
  },
  {
   "cell_type": "code",
   "execution_count": 49,
   "id": "00e36922-0423-447f-a563-a559007966e0",
   "metadata": {},
   "outputs": [
    {
     "data": {
      "text/plain": [
       "array([[  1,   4,  27],\n",
       "       [  4,  25, 216]])"
      ]
     },
     "execution_count": 49,
     "metadata": {},
     "output_type": "execute_result"
    }
   ],
   "source": [
    "a2 ** a1"
   ]
  },
  {
   "cell_type": "code",
   "execution_count": 50,
   "id": "dafe857a-1f24-4206-a2ea-6d7e56596d64",
   "metadata": {},
   "outputs": [
    {
     "data": {
      "text/plain": [
       "array([[ 1,  4,  9],\n",
       "       [16, 25, 36]])"
      ]
     },
     "execution_count": 50,
     "metadata": {},
     "output_type": "execute_result"
    }
   ],
   "source": [
    "np.square (a2)"
   ]
  },
  {
   "cell_type": "code",
   "execution_count": 51,
   "id": "68a49516-c180-47bd-a367-f6b7654ccb10",
   "metadata": {},
   "outputs": [
    {
     "data": {
      "text/plain": [
       "array([2., 3., 4.])"
      ]
     },
     "execution_count": 51,
     "metadata": {},
     "output_type": "execute_result"
    }
   ],
   "source": [
    "a1+ones"
   ]
  },
  {
   "cell_type": "code",
   "execution_count": 52,
   "id": "f62e4ca9-396d-4d29-ae1c-97106e483b4f",
   "metadata": {},
   "outputs": [
    {
     "data": {
      "text/plain": [
       "array([1, 0, 1], dtype=int32)"
      ]
     },
     "execution_count": 52,
     "metadata": {},
     "output_type": "execute_result"
    }
   ],
   "source": [
    "a1 %2 #modulo -> remainder thats left over"
   ]
  },
  {
   "cell_type": "code",
   "execution_count": 53,
   "id": "f54000d6-494b-4ec9-a613-da9d3f727cde",
   "metadata": {},
   "outputs": [
    {
     "data": {
      "text/plain": [
       "array([ 2.71828183,  7.3890561 , 20.08553692])"
      ]
     },
     "execution_count": 53,
     "metadata": {},
     "output_type": "execute_result"
    }
   ],
   "source": [
    "np.exp(a1)"
   ]
  },
  {
   "cell_type": "code",
   "execution_count": 54,
   "id": "cc612eb0-1e59-4c78-b16b-0411d1862228",
   "metadata": {},
   "outputs": [
    {
     "data": {
      "text/plain": [
       "array([0.        , 0.69314718, 1.09861229])"
      ]
     },
     "execution_count": 54,
     "metadata": {},
     "output_type": "execute_result"
    }
   ],
   "source": [
    "np.log(a1)"
   ]
  },
  {
   "cell_type": "markdown",
   "id": "f648fab0-55e6-459f-859d-e0865e377ba2",
   "metadata": {},
   "source": [
    "###Aggregation"
   ]
  },
  {
   "cell_type": "code",
   "execution_count": 55,
   "id": "f18bf528-8c63-4bcf-a186-5e3976588b61",
   "metadata": {},
   "outputs": [],
   "source": [
    "listy_list= [1,2,3\n",
    "            ]"
   ]
  },
  {
   "cell_type": "code",
   "execution_count": 56,
   "id": "4784b0c0-3d29-4ac0-a586-0ae4bd560373",
   "metadata": {},
   "outputs": [
    {
     "data": {
      "text/plain": [
       "list"
      ]
     },
     "execution_count": 56,
     "metadata": {},
     "output_type": "execute_result"
    }
   ],
   "source": [
    "type(listy_list)"
   ]
  },
  {
   "cell_type": "code",
   "execution_count": 57,
   "id": "0f5f8b88-3cc7-471b-8a60-4ed7acfbec98",
   "metadata": {},
   "outputs": [
    {
     "data": {
      "text/plain": [
       "6"
      ]
     },
     "execution_count": 57,
     "metadata": {},
     "output_type": "execute_result"
    }
   ],
   "source": [
    "sum(listy_list)"
   ]
  },
  {
   "cell_type": "code",
   "execution_count": 58,
   "id": "c1c4d1cb-0588-4cc8-bec8-f2b769c726b5",
   "metadata": {},
   "outputs": [
    {
     "data": {
      "text/plain": [
       "numpy.ndarray"
      ]
     },
     "execution_count": 58,
     "metadata": {},
     "output_type": "execute_result"
    }
   ],
   "source": [
    "type(a1)\n"
   ]
  },
  {
   "cell_type": "code",
   "execution_count": 59,
   "id": "bbbaf12c-9973-45c8-aba4-a45678aeb34f",
   "metadata": {},
   "outputs": [
    {
     "data": {
      "text/plain": [
       "array([1, 2, 3])"
      ]
     },
     "execution_count": 59,
     "metadata": {},
     "output_type": "execute_result"
    }
   ],
   "source": [
    "a1"
   ]
  },
  {
   "cell_type": "code",
   "execution_count": 60,
   "id": "617e37e5-6621-4eb2-8bbe-4a3625e1ae32",
   "metadata": {},
   "outputs": [
    {
     "data": {
      "text/plain": [
       "6"
      ]
     },
     "execution_count": 60,
     "metadata": {},
     "output_type": "execute_result"
    }
   ],
   "source": [
    "sum(a1)\n"
   ]
  },
  {
   "cell_type": "code",
   "execution_count": 61,
   "id": "8bf09cb9-23dd-445c-9dc7-a4bf1c8b2357",
   "metadata": {},
   "outputs": [
    {
     "data": {
      "text/plain": [
       "6"
      ]
     },
     "execution_count": 61,
     "metadata": {},
     "output_type": "execute_result"
    }
   ],
   "source": [
    "np.sum(a1)"
   ]
  },
  {
   "cell_type": "code",
   "execution_count": 88,
   "id": "67f56a96-14f1-466f-890e-4da8d5ddbc8e",
   "metadata": {},
   "outputs": [
    {
     "data": {
      "text/plain": [
       "array([[ 96, 116, 128, 156,  41],\n",
       "       [ 33,  27,  42,  57,  12],\n",
       "       [ 67,  66,  85, 109,  23],\n",
       "       [ 52,  39,  61,  82,  11],\n",
       "       [ 65,  85,  84,  97,  23]])"
      ]
     },
     "execution_count": 88,
     "metadata": {},
     "output_type": "execute_result"
    }
   ],
   "source": [
    "np.random.seed(0)\n",
    "\n",
    "mat1= np.random.randint (10,size=(3,5))\n",
    "mat2= np.random.randint (10,size=(3,5))\n",
    "\n",
    "mat3= mat1.transpose()\n",
    "mat2\n",
    "np.dot(mat3,mat2)"
   ]
  },
  {
   "cell_type": "code",
   "execution_count": 91,
   "id": "8d6114d8-3d19-4cc2-8a4f-3f17e8d7f89c",
   "metadata": {},
   "outputs": [
    {
     "data": {
      "text/plain": [
       "array([[27, 28, 43, 37, 39],\n",
       "       [34, 37, 44, 23, 38],\n",
       "       [51, 47, 65, 36, 43]])"
      ]
     },
     "execution_count": 91,
     "metadata": {},
     "output_type": "execute_result"
    }
   ],
   "source": [
    "mat1= np.random.randint (6,size=(3,5))\n",
    "mat2= np.random.randint (6,size=(5,5))\n",
    "\n",
    "#np.dot(mat1,mat2)\n",
    "mat1.dot(mat2)"
   ]
  },
  {
   "cell_type": "code",
   "execution_count": 86,
   "id": "f70063ff-c55a-48a4-ac70-63f328c6f8ce",
   "metadata": {},
   "outputs": [
    {
     "data": {
      "text/plain": [
       "(5, 3)"
      ]
     },
     "execution_count": 86,
     "metadata": {},
     "output_type": "execute_result"
    }
   ],
   "source": [
    "mat3.shape"
   ]
  },
  {
   "cell_type": "markdown",
   "id": "96cea0d6-2506-4577-baa3-7080f020f70b",
   "metadata": {},
   "source": [
    "##sorting arrays\n"
   ]
  },
  {
   "cell_type": "code",
   "execution_count": 103,
   "id": "a8dc8f6b-aff6-46c7-8f82-e7a8f033a713",
   "metadata": {},
   "outputs": [
    {
     "data": {
      "text/plain": [
       "array([[8, 2, 3, 2, 0],\n",
       "       [8, 8, 3, 8, 2],\n",
       "       [8, 4, 3, 0, 4]])"
      ]
     },
     "execution_count": 103,
     "metadata": {},
     "output_type": "execute_result"
    }
   ],
   "source": [
    "random_array= np.random.randint(10,size=(3,5))\n",
    "random_array"
   ]
  },
  {
   "cell_type": "code",
   "execution_count": 104,
   "id": "b9e9a260-6855-44b5-a1b9-9ef2e00169ee",
   "metadata": {},
   "outputs": [
    {
     "data": {
      "text/plain": [
       "array([[0, 2, 2, 3, 8],\n",
       "       [2, 3, 8, 8, 8],\n",
       "       [0, 3, 4, 4, 8]])"
      ]
     },
     "execution_count": 104,
     "metadata": {},
     "output_type": "execute_result"
    }
   ],
   "source": [
    "np.sort(random_array)"
   ]
  },
  {
   "cell_type": "code",
   "execution_count": 105,
   "id": "678ff470-afcd-4cd0-b15b-83d834049f51",
   "metadata": {},
   "outputs": [
    {
     "data": {
      "text/plain": [
       "array([[4, 1, 3, 2, 0],\n",
       "       [4, 2, 0, 1, 3],\n",
       "       [3, 2, 1, 4, 0]], dtype=int64)"
      ]
     },
     "execution_count": 105,
     "metadata": {},
     "output_type": "execute_result"
    }
   ],
   "source": [
    "np.argsort(random_array)"
   ]
  },
  {
   "cell_type": "markdown",
   "id": "c299d845-800d-4bbe-a6a1-6b2a215280be",
   "metadata": {},
   "source": [
    "##practical example- numpy in action"
   ]
  },
  {
   "cell_type": "markdown",
   "id": "f83e83a0-4914-417c-8511-6cb1f2044e64",
   "metadata": {},
   "source": [
    "<img src=\"images/panda.png\"/>"
   ]
  },
  {
   "cell_type": "code",
   "execution_count": 119,
   "id": "87ae0f2c-0ed4-4fc1-8d52-e37d3baa6243",
   "metadata": {},
   "outputs": [
    {
     "data": {
      "text/plain": [
       "array([[[0.05490196, 0.10588235, 0.06666667],\n",
       "        [0.05490196, 0.10588235, 0.06666667],\n",
       "        [0.05490196, 0.10588235, 0.06666667],\n",
       "        ...,\n",
       "        [0.16470589, 0.12941177, 0.09411765],\n",
       "        [0.16470589, 0.12941177, 0.09411765],\n",
       "        [0.16470589, 0.12941177, 0.09411765]],\n",
       "\n",
       "       [[0.05490196, 0.10588235, 0.06666667],\n",
       "        [0.05490196, 0.10588235, 0.06666667],\n",
       "        [0.05490196, 0.10588235, 0.06666667],\n",
       "        ...,\n",
       "        [0.16470589, 0.12941177, 0.09411765],\n",
       "        [0.16470589, 0.12941177, 0.09411765],\n",
       "        [0.16470589, 0.12941177, 0.09411765]],\n",
       "\n",
       "       [[0.05490196, 0.10588235, 0.06666667],\n",
       "        [0.05490196, 0.10588235, 0.06666667],\n",
       "        [0.05490196, 0.10588235, 0.06666667],\n",
       "        ...,\n",
       "        [0.16470589, 0.12941177, 0.09411765],\n",
       "        [0.16470589, 0.12941177, 0.09411765],\n",
       "        [0.16470589, 0.12941177, 0.09411765]],\n",
       "\n",
       "       [[0.05490196, 0.10588235, 0.06666667],\n",
       "        [0.05490196, 0.10588235, 0.06666667],\n",
       "        [0.05490196, 0.10588235, 0.06666667],\n",
       "        ...,\n",
       "        [0.16862746, 0.13333334, 0.09803922],\n",
       "        [0.16862746, 0.13333334, 0.09803922],\n",
       "        [0.16862746, 0.13333334, 0.09803922]],\n",
       "\n",
       "       [[0.05490196, 0.10588235, 0.06666667],\n",
       "        [0.05490196, 0.10588235, 0.06666667],\n",
       "        [0.05490196, 0.10588235, 0.06666667],\n",
       "        ...,\n",
       "        [0.16862746, 0.13333334, 0.09803922],\n",
       "        [0.16862746, 0.13333334, 0.09803922],\n",
       "        [0.16862746, 0.13333334, 0.09803922]]], dtype=float32)"
      ]
     },
     "execution_count": 119,
     "metadata": {},
     "output_type": "execute_result"
    }
   ],
   "source": [
    "from matplotlib.image import imread\n",
    "\n",
    "panda=imread(\"images/panda.png\")\n",
    "panda[:5]"
   ]
  },
  {
   "cell_type": "code",
   "execution_count": 122,
   "id": "bbe08470-8eb1-479b-9bab-201da56286c1",
   "metadata": {},
   "outputs": [
    {
     "data": {
      "text/plain": [
       "array([[[0.5019608 , 0.50980395, 0.4862745 , 1.        ],\n",
       "        [0.3372549 , 0.34509805, 0.30588236, 1.        ],\n",
       "        [0.20392157, 0.21568628, 0.14901961, 1.        ],\n",
       "        ...,\n",
       "        [0.64705884, 0.7058824 , 0.54901963, 1.        ],\n",
       "        [0.59607846, 0.63529414, 0.45882353, 1.        ],\n",
       "        [0.44705883, 0.47058824, 0.3372549 , 1.        ]]], dtype=float32)"
      ]
     },
     "execution_count": 122,
     "metadata": {},
     "output_type": "execute_result"
    }
   ],
   "source": [
    "car=imread(\"images/car-photo.png\")\n",
    "car[:1]"
   ]
  },
  {
   "cell_type": "code",
   "execution_count": 124,
   "id": "38cac523-9daa-4cb0-948e-ec1e492a67d1",
   "metadata": {},
   "outputs": [
    {
     "data": {
      "text/plain": [
       "array([[[0.70980394, 0.80784315, 0.88235295, 1.        ],\n",
       "        [0.72156864, 0.8117647 , 0.8862745 , 1.        ],\n",
       "        [0.7411765 , 0.8156863 , 0.8862745 , 1.        ],\n",
       "        ...,\n",
       "        [0.49803922, 0.6862745 , 0.8392157 , 1.        ],\n",
       "        [0.49411765, 0.68235296, 0.8392157 , 1.        ],\n",
       "        [0.49411765, 0.68235296, 0.8352941 , 1.        ]]], dtype=float32)"
      ]
     },
     "execution_count": 124,
     "metadata": {},
     "output_type": "execute_result"
    }
   ],
   "source": [
    "dog=imread(\"images/dog-photo.png\")\n",
    "dog[:1]"
   ]
  },
  {
   "cell_type": "code",
   "execution_count": null,
   "id": "50a8599a-67a1-42b2-ae4f-f3622097aabc",
   "metadata": {},
   "outputs": [],
   "source": []
  }
 ],
 "metadata": {
  "kernelspec": {
   "display_name": "Python 3 (ipykernel)",
   "language": "python",
   "name": "python3"
  },
  "language_info": {
   "codemirror_mode": {
    "name": "ipython",
    "version": 3
   },
   "file_extension": ".py",
   "mimetype": "text/x-python",
   "name": "python",
   "nbconvert_exporter": "python",
   "pygments_lexer": "ipython3",
   "version": "3.12.4"
  }
 },
 "nbformat": 4,
 "nbformat_minor": 5
}
